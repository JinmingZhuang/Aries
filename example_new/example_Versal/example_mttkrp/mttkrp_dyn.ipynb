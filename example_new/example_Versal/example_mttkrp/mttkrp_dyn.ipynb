{
 "cells": [
  {
   "cell_type": "code",
   "execution_count": null,
   "metadata": {},
   "outputs": [],
   "source": [
    "import os\n",
    "import sys\n",
    "cur_dir = os.getcwd()\n",
    "aries_path = cur_dir + \"/../../../\"\n",
    "sys.path.append(aries_path)\n",
    "from frontend import *\n",
    "from IPython import get_ipython"
   ]
  },
  {
   "cell_type": "code",
   "execution_count": null,
   "metadata": {},
   "outputs": [],
   "source": [
    "# MTTKRP: D[i0, j0] += A[i0, k0, l0] * B[k0, j0] * C[l0, j0]\n",
    "I, J, K, L = 8, 128, 32, 128\n",
    "TI, TJ, TK, TL = 2, 16, 8, 16\n",
    "GRID_I0, GRID_J0, GRID_K0, GRID_L0 = I//TI, J//TJ, K//TK, L//TL # grid must be a tuple"
   ]
  },
  {
   "cell_type": "code",
   "execution_count": null,
   "metadata": {},
   "outputs": [],
   "source": [
    "@task_kernel(external_path=\"aie1/adf/kernel_mttkrp/aie_int32\", para = [TI, TJ, TK, TL])\n",
    "def kernel_mttkrp(TileA: int32[TI, TK, TL],\n",
    "                  TileB: int32[TK, TJ],\n",
    "                  TileC: int32[TL, TJ],\n",
    "                  TileD: int32[TI, TJ]):\n",
    "    for i0 in range(0, TI):\n",
    "        for j0 in range(0, TJ):\n",
    "            TileD[i0, j0] = int32(0)\n",
    "            for k0 in range(0, TK):\n",
    "                for l0 in range(0, TL):\n",
    "                    TileD[i0, j0] += TileA[i0, k0, l0] * TileB[k0, j0] * TileC[l0, j0]"
   ]
  },
  {
   "cell_type": "code",
   "execution_count": null,
   "metadata": {},
   "outputs": [],
   "source": [
    "@task_tile()\n",
    "def mttkrp(A: int32[-1, -1, -1], B: int32[-1, -1], C: int32[-1, -1], \n",
    "           D: int32[-1, -1], GRID_I, GRID_J, GRID_K, GRID_L):\n",
    "    for i in range(GRID_I):\n",
    "        for j in range(GRID_J):\n",
    "            for k in range(GRID_K):\n",
    "                for l in range(GRID_L):\n",
    "                    # Compute tile slices for multiple dimensions\n",
    "                    ti = aries.arange(i*TI, (i+1)*TI)  # I tile range\n",
    "                    tj = aries.arange(j*TJ, (j+1)*TJ)  # J tile range\n",
    "                    tk = aries.arange(k*TK, (k+1)*TK)  # K tile range\n",
    "                    tl = aries.arange(l*TL, (l+1)*TL)  # L tile range\n",
    "\n",
    "                    L1_A = aries.buffer((TI, TK, TL), \"int32\")\n",
    "                    L1_B = aries.buffer((TK, TJ), \"int32\")\n",
    "                    L1_C = aries.buffer((TL, TJ), \"int32\")\n",
    "                    L1_D = aries.buffer((TI, TJ), \"int32\")\n",
    "\n",
    "                    L1_A = aries.load(A, (ti, tk, tl))\n",
    "                    L1_B = aries.load(B, (tk, tj))\n",
    "                    L1_C = aries.load(C, (tl, tj))\n",
    "                    kernel_mttkrp(L1_A, L1_B, L1_C, L1_D)\n",
    "                    aries.accstore(L1_D, D, (ti, tj))"
   ]
  },
  {
   "cell_type": "code",
   "execution_count": null,
   "metadata": {},
   "outputs": [],
   "source": [
    "@task_top()\n",
    "def top(A: int32[I, K, L], B: int32[K, J], \n",
    "        C: int32[L, J], D: int32[I, J]):\n",
    "    cast_A = aries.cast(A, (-1, -1, -1)) # This is for lowering\n",
    "    cast_B = aries.cast(B, (-1, -1))\n",
    "    cast_C = aries.cast(C, (-1, -1))\n",
    "    cast_D = aries.cast(D, (-1, -1))\n",
    "    mttkrp_task = mttkrp(cast_A, cast_B, cast_C, cast_D, \n",
    "                         GRID_I0, GRID_J0, GRID_K0, GRID_L0)\n",
    "    return mttkrp_task"
   ]
  },
  {
   "cell_type": "code",
   "execution_count": null,
   "metadata": {},
   "outputs": [],
   "source": [
    "# Get the input cells that contains the decorators\n",
    "cell_codes = get_ipython().user_ns[\"In\"][2:6]\n",
    "# Join them into one string, with a newline between each cell\n",
    "all_code = \"\\n\".join(cell_codes)"
   ]
  },
  {
   "cell_type": "code",
   "execution_count": null,
   "metadata": {},
   "outputs": [],
   "source": [
    "def mttkrp_sw(A: int32[I, K, L], B: int32[K, J], C: int32[L, J]):\n",
    "    D = np.zeros((I, J)).astype(np.int32)\n",
    "    for i0 in range(0, I):\n",
    "        for j0 in range(0, J):\n",
    "            for k0 in range(0, K):\n",
    "                  for l0 in range(0, L):\n",
    "                      D[i0, j0] += A[i0, k0, l0] * B[k0, j0] * C[l0, j0]\n",
    "    return D"
   ]
  },
  {
   "cell_type": "code",
   "execution_count": null,
   "metadata": {},
   "outputs": [],
   "source": [
    "# Initialize the buffers\n",
    "np.random.seed(0)\n",
    "A = np.random.randint(-5, 6, size=(I, K, L), dtype=np.int32)\n",
    "B = np.random.randint(-5, 6, size=(K, J), dtype=np.int32)\n",
    "C = np.random.randint(-5, 6, size=(L, J), dtype=np.int32)\n",
    "D = np.zeros((I, J)).astype(np.int32)\n",
    "\n",
    "# Execute ARIES on CPU\n",
    "mttkrp_task = top(A, B, C, D)\n",
    "\n",
    "# Golden file generation\n",
    "E = mttkrp_sw(A, B, C)\n",
    "\n",
    "# Compare the program with golden file\n",
    "print(np.allclose(D, E))\n",
    "\n",
    "# Generate files for on-board test\n",
    "aries.gen_sim([A, B, C, E])"
   ]
  },
  {
   "cell_type": "code",
   "execution_count": null,
   "metadata": {},
   "outputs": [],
   "source": [
    "# Specify primitives to optimize hardware design\n",
    "sch = Schedule(mttkrp_task)\n",
    "\n",
    "############# Primitives #############\n",
    "sch.parallel(mttkrp_task, [2, 2, 1, 2]) # AIE Array Parallelism\n",
    "sch.l2buffer(mttkrp_task, [2, 2, 2, 2]) # L2 buffer data reuse\n",
    "sch.bufsel(mttkrp_task, [0, 1, 0, 1]) # Select the type of buffer of A, B, C, 1:BRAM; 0:URAM\n",
    "######################################\n",
    "\n",
    "sch.to(\"VCK190\")"
   ]
  },
  {
   "cell_type": "code",
   "execution_count": null,
   "metadata": {},
   "outputs": [],
   "source": [
    "# Set the project dir and template dir\n",
    "prj_dir= cur_dir + '/project_mttkrp_dyn'\n",
    "temp_dir= aries_path + '/templates'\n",
    "# Generate Initial MLIR and ARIES Opts\n",
    "sch.build(all_code, prj_dir, temp_dir)"
   ]
  }
 ],
 "metadata": {
  "kernelspec": {
   "display_name": "aries",
   "language": "python",
   "name": "python3"
  },
  "language_info": {
   "codemirror_mode": {
    "name": "ipython",
    "version": 3
   },
   "file_extension": ".py",
   "mimetype": "text/x-python",
   "name": "python",
   "nbconvert_exporter": "python",
   "pygments_lexer": "ipython3",
   "version": "3.12.9"
  }
 },
 "nbformat": 4,
 "nbformat_minor": 2
}
