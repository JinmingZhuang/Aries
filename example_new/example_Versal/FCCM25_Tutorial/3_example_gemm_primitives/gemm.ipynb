{
 "cells": [
  {
   "cell_type": "markdown",
   "metadata": {},
   "source": [
    "## 🧮 Performance scaling for GEMM \n",
    "\n",
    "In this example, we demonstrate how to leverage **L2 buffer reuse** and enhance **parallelism** in a design by applying ARIES primitives to the GEMM operation."
   ]
  },
  {
   "cell_type": "code",
   "execution_count": null,
   "metadata": {},
   "outputs": [],
   "source": [
    "import os\n",
    "import sys\n",
    "cur_dir = os.getcwd()\n",
    "aries_path = cur_dir + \"/../../../../\"\n",
    "sys.path.append(aries_path)\n",
    "from frontend import *\n",
    "from IPython import get_ipython"
   ]
  },
  {
   "cell_type": "markdown",
   "metadata": {},
   "source": [
    "### 🔄 Dataflow of Default GEMM\n",
    "\n",
    "The diagram below illustrates the dataflow of the default GEMM implementation we previously explored.\n",
    "\n",
    "<img src=\"../images/gemm_dataflow.png\" alt=\"GEMM\" width=\"800\"/>"
   ]
  },
  {
   "cell_type": "code",
   "execution_count": null,
   "metadata": {},
   "outputs": [],
   "source": [
    "# GEMM: C[i0, j0] += A[i0, k0] * B[k0, j0]\n",
    "I, J, K = 6144, 6144, 6144\n",
    "TI, TJ, TK = 32, 32, 32\n",
    "grid = (I // TI, J // TJ, K // TK)  # grid must be a tuple"
   ]
  },
  {
   "cell_type": "code",
   "execution_count": null,
   "metadata": {},
   "outputs": [],
   "source": [
    "@task_kernel(external_path=\"aie1/adf/kernel_mm/aie_fp32_v0\", para = [TI, TJ, TK])\n",
    "def kernel_gemm(TileA: float32[TI, TK], \n",
    "                TileB: float32[TK, TJ], \n",
    "                TileC: float32[TI, TJ]):\n",
    "    for i0 in range(0, TI):\n",
    "        for j0 in range(0, TJ):\n",
    "            TileC[i0, j0] = float32(0)\n",
    "            for k0 in range(0, TK):\n",
    "                TileC[i0, j0] += TileA[i0, k0] * TileB[k0, j0]\n",
    "\n",
    "@task_tile(False)\n",
    "def gemm(A: float32[I, K], B: float32[K, J], \n",
    "         C: float32[I, J], **kwargs):\n",
    "    i, j, k = aries.tile_ranks(**kwargs)\n",
    "\n",
    "    L1_A = aries.buffer((TI, TK), \"float32\")\n",
    "    L1_B = aries.buffer((TK, TJ), \"float32\")\n",
    "    L1_C = aries.buffer((TI, TJ), \"float32\")\n",
    "    \n",
    "    # Compute tile slices for multiple dimensions\n",
    "    ti = aries.arange(i*TI, (i+1)*TI)  # I tile range\n",
    "    tj = aries.arange(j*TJ, (j+1)*TJ)  # J tile range\n",
    "    tk = aries.arange(k*TK, (k+1)*TK)  # K tile range\n",
    "    \n",
    "    L1_A = aries.load(A, (ti, tk))\n",
    "    L1_B = aries.load(B, (tk, tj))\n",
    "    kernel_gemm(L1_A, L1_B, L1_C)\n",
    "    aries.accstore(L1_C, C, (ti, tj))\n",
    "\n",
    "@task_top()\n",
    "def top(A: float32[I, K], B: float32[K, J], C: float32[I, J]):\n",
    "    gemm_task = gemm[grid](A, B, C)\n",
    "    return gemm_task\n",
    "\n",
    "# Get the input cells that contains the decorators\n",
    "cell_codes = get_ipython().user_ns[\"In\"][2:4]\n",
    "# Join them into one string, with a newline between each cell\n",
    "all_code = \"\\n\".join(cell_codes)\n",
    "\n",
    "# Initialize the buffers\n",
    "np.random.seed(0)\n",
    "A = np.random.rand(I, K).astype(np.float32)\n",
    "B = np.random.rand(K, J).astype(np.float32)\n",
    "C = np.zeros((I, J)).astype(np.float32)\n",
    "\n",
    "# Execute on CPU\n",
    "gemm_task = top(A, B, C)"
   ]
  },
  {
   "cell_type": "markdown",
   "metadata": {},
   "source": [
    "### 🔄 Dataflow of GEMM after Optimizations\n",
    "\n",
    "The diagram below illustrates the optimized GEMM dataflow after applying **L2 buffer reuse** and enhancing **parallelism** using ARIES primitives. These optimizations reduce redundant memory accesses and enable more efficient computation across tiles.\n",
    "\n",
    "<img src=\"../images/gemm_dataflow_opt.png\" alt=\"GEMM\" width=\"800\"/>"
   ]
  },
  {
   "cell_type": "code",
   "execution_count": null,
   "metadata": {},
   "outputs": [],
   "source": [
    "# Specify primitives to optimize hardware design\n",
    "sch = Schedule(gemm_task)\n",
    "\n",
    "############# Primitives #############\n",
    "sch.parallel(gemm_task, [1, 1, 2]) # AIE Array Parallelism\n",
    "sch.l2buffer(gemm_task, [2, 2, 1]) # L2 buffer data reuse. The order is [i, j, k] which corresponds to: i, j, k = aries.tile_ranks()\n",
    "sch.bufsel(gemm_task, [1, 1, 0]) # Select the type of buffer of A, B, C, 1:BRAM; 0:URAM\n",
    "######################################\n",
    "\n",
    "sch.to(\"VCK190\")"
   ]
  },
  {
   "cell_type": "code",
   "execution_count": null,
   "metadata": {},
   "outputs": [],
   "source": [
    "# Set the project dir and template dir\n",
    "prj_dir= cur_dir + '/project_gemm'\n",
    "temp_dir= aries_path + '/templates'\n",
    "# Generate Initial MLIR and ARIES Opts\n",
    "sch.build(all_code, prj_dir, temp_dir)\n",
    "sch.compile(aries_path, prj_dir)"
   ]
  }
 ],
 "metadata": {
  "kernelspec": {
   "display_name": "aries",
   "language": "python",
   "name": "python3"
  },
  "language_info": {
   "codemirror_mode": {
    "name": "ipython",
    "version": 3
   },
   "file_extension": ".py",
   "mimetype": "text/x-python",
   "name": "python",
   "nbconvert_exporter": "python",
   "pygments_lexer": "ipython3",
   "version": "3.12.9"
  }
 },
 "nbformat": 4,
 "nbformat_minor": 2
}
