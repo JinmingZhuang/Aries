{
 "cells": [
  {
   "cell_type": "markdown",
   "metadata": {},
   "source": [
    "## 🧮 Performance scaling for GEMM \n",
    "\n",
    "In this example, we demonstrate how to leverage **L2 buffer reuse** and enhance **parallelism** in a design by applying ARIES primitives to the GEMM operation."
   ]
  },
  {
   "cell_type": "code",
   "execution_count": null,
   "metadata": {},
   "outputs": [],
   "source": [
    "import os\n",
    "import sys\n",
    "cur_dir = os.getcwd()\n",
    "aries_path = cur_dir + \"/../../../../\"\n",
    "sys.path.append(aries_path)\n",
    "from frontend import *\n",
    "from IPython import get_ipython"
   ]
  },
  {
   "cell_type": "markdown",
   "metadata": {},
   "source": [
    "### 🔄 Dataflow of Default GEMM\n",
    "\n",
    "The diagram below illustrates the dataflow of the default GEMM implementation we previously explored.\n",
    "\n",
    "<img src=\"../images/gemm_dataflow.png\" alt=\"GEMM\" width=\"800\"/>"
   ]
  },
  {
   "cell_type": "code",
   "execution_count": null,
   "metadata": {},
   "outputs": [],
   "source": [
    "# GEMM: C[i0, j0] += A[i0, k0] * B[k0, j0]\n",
    "I, J, K = 6144, 6144, 6144\n",
    "TI, TJ, TK = 32, 32, 32\n",
    "grid = (I // TI, J // TJ, K // TK)  # grid must be a tuple\n",
    "\n",
    "@task_kernel(external_path=\"aie1/adf/kernel_mm/aie_fp32_v0\", para = [TI, TJ, TK])\n",
    "def kernel_gemm(TileA: float32[TI, TK], \n",
    "                TileB: float32[TK, TJ], \n",
    "                TileC: float32[TI, TJ]):\n",
    "    for i0 in range(0, TI):\n",
    "        for j0 in range(0, TJ):\n",
    "            TileC[i0, j0] = float32(0)\n",
    "            for k0 in range(0, TK):\n",
    "                TileC[i0, j0] += TileA[i0, k0] * TileB[k0, j0]\n",
    "\n",
    "@task_tile(False)\n",
    "def gemm(A: float32[I, K], B: float32[K, J], \n",
    "         C: float32[I, J], **kwargs):\n",
    "    i, j, k = aries.tile_ranks(**kwargs)\n",
    "\n",
    "    L1_A = aries.buffer((TI, TK), \"float32\")\n",
    "    L1_B = aries.buffer((TK, TJ), \"float32\")\n",
    "    L1_C = aries.buffer((TI, TJ), \"float32\")\n",
    "    \n",
    "    # Compute tile slices for multiple dimensions\n",
    "    ti = aries.arange(i*TI, (i+1)*TI)  # I tile range\n",
    "    tj = aries.arange(j*TJ, (j+1)*TJ)  # J tile range\n",
    "    tk = aries.arange(k*TK, (k+1)*TK)  # K tile range\n",
    "    \n",
    "    L1_A = aries.load(A, (ti, tk))\n",
    "    L1_B = aries.load(B, (tk, tj))\n",
    "    kernel_gemm(L1_A, L1_B, L1_C)\n",
    "    aries.accstore(L1_C, C, (ti, tj))\n",
    "\n",
    "@task_top()\n",
    "def top(A: float32[I, K], B: float32[K, J], C: float32[I, J]):\n",
    "    gemm_task = gemm[grid, (TI, TJ, TK)](A, B, C)\n",
    "    return gemm_task\n",
    "\n",
    "# Get the input cells that contains the decorators\n",
    "cell_codes = get_ipython().user_ns[\"In\"][2:4]\n",
    "# Join them into one string, with a newline between each cell\n",
    "all_code = \"\\n\".join(cell_codes)\n",
    "\n",
    "# Initialize the buffers\n",
    "np.random.seed(0)\n",
    "A = np.random.rand(I, K).astype(np.float32)\n",
    "B = np.random.rand(K, J).astype(np.float32)\n",
    "C = np.zeros((I, J)).astype(np.float32)\n",
    "\n",
    "# Execute on CPU\n",
    "gemm_task = top(A, B, C)"
   ]
  },
  {
   "cell_type": "markdown",
   "metadata": {},
   "source": [
    "### 🔄 Dataflow of GEMM after Optimizations\n",
    "\n",
    "The diagram below illustrates the optimized GEMM dataflow after applying **L2 buffer reuse** and enhancing **parallelism** using ARIES primitives. These optimizations reduce redundant memory accesses and enable more efficient computation across tiles.\n",
    "\n",
    "<img src=\"../images/gemm_dataflow_opt.png\" alt=\"GEMM\" width=\"800\"/>"
   ]
  },
  {
   "cell_type": "code",
   "execution_count": null,
   "metadata": {},
   "outputs": [],
   "source": [
    "# Specify primitives to optimize hardware design\n",
    "sch = Schedule(gemm_task)\n",
    "\n",
    "############# Primitives #############\n",
    "sch.parallel(gemm_task, [1, 1, 2]) # AIE Array Parallelism\n",
    "sch.l2buffer(gemm_task, [2, 2, 1]) # L2 buffer data reuse. The order is [i, j, k] which corresponds to: i, j, k = aries.tile_ranks()\n",
    "sch.bufsel(gemm_task, [1, 1, 0]) # Select the type of buffer of A, B, C, 1:BRAM; 0:URAM\n",
    "######################################\n",
    "\n",
    "sch.to(\"VCK190\")"
   ]
  },
  {
   "cell_type": "markdown",
   "metadata": {},
   "source": [
    "### 🔍 Analytical Model for GEMM\n",
    "\n",
    "We present an **analytical model** for the GEMM kernel that provides a detailed estimate of hardware resource utilization and performance metrics. Specifically, the model:\n",
    "\n",
    "- **Estimates on-chip BRAM and URAM usage**\n",
    "- **Reports the number of PLIOs**\n",
    "- **Tracks the number of AIEs utilized**\n",
    "- **Calculates the estimated throughput**\n",
    "- **Monitors GEMM of various optimization primitives**"
   ]
  },
  {
   "cell_type": "code",
   "execution_count": null,
   "metadata": {},
   "outputs": [],
   "source": [
    "sch.gemm_model(gemm_task, \"float32\")"
   ]
  },
  {
   "cell_type": "code",
   "execution_count": null,
   "metadata": {},
   "outputs": [],
   "source": [
    "# Set the project dir and template dir\n",
    "prj_dir= cur_dir + '/project_gemm'\n",
    "temp_dir= aries_path + '/templates'\n",
    "# Generate Initial MLIR and ARIES Opts\n",
    "sch.build(all_code, prj_dir, temp_dir)\n",
    "sch.compile(aries_path, prj_dir, target = \"report\")"
   ]
  },
  {
   "cell_type": "markdown",
   "metadata": {},
   "source": [
    "<details><summary markdown=\"span\">Let's view the hardware utilization in HLS and AIE report!</summary>\n",
    "\n",
    "**HLS Report Directory**: `./project_gemm/project/_x/reports/top/hls_reports/top_csynth.rpt`\n",
    "\n",
    "```text\n",
    "================================================================\n",
    "== Utilization Estimates\n",
    "================================================================\n",
    "* Summary: \n",
    "+-----------------+---------+------+---------+--------+-----+\n",
    "|       Name      | BRAM_18K|  DSP |    FF   |   LUT  | URAM|\n",
    "+-----------------+---------+------+---------+--------+-----+\n",
    "|DSP              |        -|     -|        -|       -|    -|\n",
    "|Expression       |        -|     -|        0|      22|    -|\n",
    "|FIFO             |        -|     -|        -|       -|    -|\n",
    "|Instance         |      114|     4|    19626|   17881|    2|\n",
    "|Memory           |        -|     -|        -|       -|    -|\n",
    "|Multiplexer      |        -|     -|        -|      24|    -|\n",
    "|Register         |        -|     -|      206|       -|    -|\n",
    "+-----------------+---------+------+---------+--------+-----+\n",
    "|Total            |      114|     4|    19832|   17927|    2|\n",
    "+-----------------+---------+------+---------+--------+-----+\n",
    "|Available        |     1934|  1968|  1799680|  899840|  463|\n",
    "+-----------------+---------+------+---------+--------+-----+\n",
    "|Utilization (%)  |        5|    ~0|        1|       1|   ~0|\n",
    "+-----------------+---------+------+---------+--------+-----+\n",
    "```\n",
    "\n",
    "**AIE Report Directory**: `./project_gemm/project/_x/reports/top/hls_reports/top_csynth.rpt`\n",
    "```text\n",
    "+--------------------+-------+\n",
    "| Name               | Value |\n",
    "|--------------------|-------|\n",
    "| compute_node_count | 2     |\n",
    "| plio_node_count    | 5     |\n",
    "+--------------------+-------+\n",
    "```\n",
    "\n",
    "</details>"
   ]
  },
  {
   "cell_type": "markdown",
   "metadata": {},
   "source": [
    "<details>\n",
    "<summary><strong>📈 Tiled GEMM Performance on Versal VCK190</strong></summary>\n",
    "\n",
    "<br>\n",
    "\n",
    "This benchmark evaluates the performance of a square matrix multiplication  \n",
    "(6144 × 6144 × 6144) on the **Versal VCK190** platform.\n",
    "\n",
    "- The number of **AIE cores** scales from **1 to 256**.\n",
    "- Each AIE core operates at **1.25 GHz**.\n",
    "- The theoretical peak throughput per AIE core is **20 GFLOPS**.\n",
    "\n",
    "<br>\n",
    "\n",
    "\n",
    "<img src=\"../images/throughput_gemm.png\" alt=\"Throughput vs AIE Count\" width=\"600\"/>\n",
    "\n",
    "\n",
    "</details>"
   ]
  },
  {
   "cell_type": "markdown",
   "metadata": {},
   "source": [
    "Following settings shows the 256 AIE design in the above chart."
   ]
  },
  {
   "cell_type": "code",
   "execution_count": null,
   "metadata": {},
   "outputs": [],
   "source": [
    "sch.parallel(gemm_task, [8, 8, 4])\n",
    "sch.l2buffer(gemm_task, [4, 8, 2])\n",
    "sch.bufsel(gemm_task, [1, 0, 0])\n",
    "sch.gemm_model(gemm_task, \"float32\")"
   ]
  }
 ],
 "metadata": {
  "kernelspec": {
   "display_name": "aries",
   "language": "python",
   "name": "python3"
  },
  "language_info": {
   "codemirror_mode": {
    "name": "ipython",
    "version": 3
   },
   "file_extension": ".py",
   "mimetype": "text/x-python",
   "name": "python",
   "nbconvert_exporter": "python",
   "pygments_lexer": "ipython3",
   "version": "3.12.9"
  }
 },
 "nbformat": 4,
 "nbformat_minor": 2
}
