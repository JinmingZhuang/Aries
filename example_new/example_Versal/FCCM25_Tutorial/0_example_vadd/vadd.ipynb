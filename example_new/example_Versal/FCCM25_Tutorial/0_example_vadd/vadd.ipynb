{
 "cells": [
  {
   "cell_type": "code",
   "execution_count": null,
   "metadata": {},
   "outputs": [],
   "source": [
    "import os\n",
    "import sys\n",
    "cur_dir = os.getcwd()\n",
    "aries_path = cur_dir + \"/../../../../\"\n",
    "sys.path.append(aries_path)\n",
    "from frontend import *\n",
    "from IPython import get_ipython"
   ]
  },
  {
   "cell_type": "code",
   "execution_count": null,
   "metadata": {},
   "outputs": [],
   "source": [
    "# Vector Add: C[i0] += A[i0] * B[i0]\n",
    "I = 512\n",
    "TI = 32\n",
    "grid = (I // TI, ) # grid must be a tuple"
   ]
  },
  {
   "cell_type": "code",
   "execution_count": null,
   "metadata": {},
   "outputs": [],
   "source": [
    "@task_kernel()\n",
    "def kernel_add(TileA: float32[TI], TileB: float32[TI], TileC: float32[TI]):\n",
    "    for i0 in range(0, TI):\n",
    "        TileC[i0] = TileA[i0] + TileB[i0]"
   ]
  },
  {
   "cell_type": "code",
   "execution_count": null,
   "metadata": {},
   "outputs": [],
   "source": [
    "@task_tile()\n",
    "def vadd(A: float32[I], B: float32[I], C: float32[I], **kwargs):\n",
    "    i = aries.tile_ranks(**kwargs)\n",
    "\n",
    "    # Compute tile slices for multiple dimensions\n",
    "    ti = aries.arange(i*TI, (i+1)*TI)  # I tile range\n",
    "    \n",
    "    L1_A = aries.buffer((TI, ), \"float32\")\n",
    "    L1_B = aries.buffer((TI, ), \"float32\")\n",
    "    L1_C = aries.buffer((TI, ), \"float32\")\n",
    "    \n",
    "    L1_A = aries.load(A, (ti, ))\n",
    "    L1_B = aries.load(B, (ti, ))\n",
    "    kernel_add(L1_A, L1_B, L1_C)\n",
    "    aries.store(L1_C, C, (ti, ))"
   ]
  },
  {
   "cell_type": "code",
   "execution_count": null,
   "metadata": {},
   "outputs": [],
   "source": [
    "@task_top()\n",
    "def top(A: float32[I], B: float32[I], C: float32[I]):\n",
    "    gemm_vadd = vadd[grid](A, B, C)\n",
    "    return gemm_vadd"
   ]
  },
  {
   "cell_type": "code",
   "execution_count": null,
   "metadata": {},
   "outputs": [],
   "source": [
    "# Get the input cells that contains the decorators\n",
    "cell_codes = get_ipython().user_ns[\"In\"][2:6]\n",
    "# Join them into one string, with a newline between each cell\n",
    "all_code = \"\\n\".join(cell_codes)"
   ]
  },
  {
   "cell_type": "code",
   "execution_count": null,
   "metadata": {},
   "outputs": [],
   "source": [
    "# Initialize the buffers\n",
    "np.random.seed(0)\n",
    "A = np.random.rand(I).astype(np.float32)\n",
    "B = np.random.rand(I).astype(np.float32)\n",
    "C = np.zeros((I)).astype(np.float32)\n",
    "\n",
    "# Execute on CPU\n",
    "vadd_task = top(A, B, C)\n",
    "D = np.add(A, B)\n",
    "print(np.allclose(C, D))\n",
    "\n",
    "# Generate files for on-board test\n",
    "aries.gen_sim([A, B, D])"
   ]
  },
  {
   "cell_type": "code",
   "execution_count": null,
   "metadata": {},
   "outputs": [],
   "source": [
    "# Apply schedulings\n",
    "sch = Schedule(vadd_task)\n",
    "sch.to(\"VCK190\")\n",
    "\n",
    "# Set the project dir and template dir\n",
    "prj_dir= cur_dir + '/project_vadd'\n",
    "temp_dir= aries_path + '/templates'\n",
    "# Generate Initial MLIR and ARIES Opts\n",
    "sch.build(all_code, prj_dir, temp_dir)"
   ]
  }
 ],
 "metadata": {
  "kernelspec": {
   "display_name": "aries",
   "language": "python",
   "name": "python3"
  },
  "language_info": {
   "codemirror_mode": {
    "name": "ipython",
    "version": 3
   },
   "file_extension": ".py",
   "mimetype": "text/x-python",
   "name": "python",
   "nbconvert_exporter": "python",
   "pygments_lexer": "ipython3",
   "version": "3.12.3"
  }
 },
 "nbformat": 4,
 "nbformat_minor": 2
}
