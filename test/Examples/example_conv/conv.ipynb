{
 "cells": [
  {
   "cell_type": "code",
   "execution_count": null,
   "metadata": {},
   "outputs": [],
   "source": [
    "import os\n",
    "import sys\n",
    "cur_dir = os.getcwd()\n",
    "aries_path = cur_dir + \"/../../../\"\n",
    "sys.path.append(aries_path)\n",
    "from frontend import *\n",
    "from IPython import get_ipython"
   ]
  },
  {
   "cell_type": "code",
   "execution_count": null,
   "metadata": {},
   "outputs": [],
   "source": [
    "# CONV: C[oh, ow, oc] += A[oh+kh, ow+kw, ic] * B[kh, kw, ic, oc]\n",
    "OC, OH, OW, IC, KH, KW, = 128, 32, 32, 128, 3, 3\n",
    "IH, IW = OH+KH-1, OW+KW-1\n",
    "\n",
    "TOC, TOH, TOW, TIC, TKH, TKW, = 16, 4, 8, 16, 3, 3\n",
    "TIH, TIW = TOH+TKH-1, TOW+TKW-1"
   ]
  },
  {
   "cell_type": "code",
   "execution_count": null,
   "metadata": {},
   "outputs": [],
   "source": [
    "@task_kernel()\n",
    "def kernel_conv(TileA: float32[TIH, TIW, TIC], \n",
    "                TileB: float32[TKH, TKW, TIC, TOC], \n",
    "                TileC: float32[TOH, TOW, TOC]):\n",
    "    for oc in range(0, TOC):\n",
    "      for oh in range(0, TOH):\n",
    "        for ow in range(0, TOW):\n",
    "          TileC[oh, ow, oc] = float32(0)\n",
    "          for ic in range(0, TIC):\n",
    "            for kh in range(0, TKH):\n",
    "              for kw in range(0, TKW):\n",
    "                TileC[oh, ow, oc] += TileA[oh+kh, ow+kw, ic] * TileB[kh, kw, ic, oc]"
   ]
  },
  {
   "cell_type": "code",
   "execution_count": null,
   "metadata": {},
   "outputs": [],
   "source": [
    "@task_tile()\n",
    "def conv(A: float32[IH, IW, IC], B: float32[KH, KW, IC, OC], C: float32[OH, OW, OC], **kwargs):\n",
    "    oc, oh, ow, ic, kh, kw = aries.tile_ranks(**kwargs)\n",
    "\n",
    "    # Compute tile slices for multiple dimensions\n",
    "    tih = aries.arange(oh*TOH, oh*TOH+TIH)\n",
    "    tiw = aries.arange(ow*TOW, ow*TOW+TIW)\n",
    "    tkh = aries.arange(kh*TKW, (kh+1)*TKW)\n",
    "    tkw = aries.arange(kw*TKH, (kw+1)*TKH)\n",
    "    toh = aries.arange(oh*TOH, (oh+1)*TOH)\n",
    "    tow = aries.arange(ow*TOW, (ow+1)*TOW)\n",
    "    tic = aries.arange(ic*TIC, (ic+1)*TIC)\n",
    "    toc = aries.arange(oc*TOC, (oc+1)*TOC)\n",
    "    \n",
    "    L1_A = aries.buffer((TIH, TIW, TIC), \"float32\")\n",
    "    L1_B = aries.buffer((TKH, TKW, TIC, TOC), \"float32\")\n",
    "    L1_C = aries.accbuffer((TOH, TOW, TOC), \"float32\")\n",
    "    L1_A = aries.load(A, (tih, tiw, tic))\n",
    "    L1_B = aries.load(B, (tkh, tkw, tic, toc))\n",
    "    kernel_conv(L1_A, L1_B, L1_C)\n",
    "    aries.accstore(L1_C, C, (toh, tow, toc))"
   ]
  },
  {
   "cell_type": "code",
   "execution_count": null,
   "metadata": {},
   "outputs": [],
   "source": [
    "@task_top()\n",
    "def top(A: float32[IH, IW, IC], B: float32[KH, KW, IC, OC], C: float32[OH, OW, OC]):\n",
    "    grid = (OC // TOC, OH // TOH, OW // TOW, IC // TIC, KH // TKH, KW // TKW)  # 2D grid\n",
    "    print(grid)\n",
    "    conv_task = conv[grid](A, B, C)\n",
    "    return conv_task"
   ]
  },
  {
   "cell_type": "code",
   "execution_count": null,
   "metadata": {},
   "outputs": [],
   "source": [
    "# Get the input cells that contains the decorators\n",
    "cell_codes = get_ipython().user_ns[\"In\"][2:6]\n",
    "# Join them into one string, with a newline between each cell\n",
    "all_code = \"\\n\".join(cell_codes)"
   ]
  },
  {
   "cell_type": "code",
   "execution_count": null,
   "metadata": {},
   "outputs": [],
   "source": [
    "def conv_sw(A, B):\n",
    "    C = np.zeros((OH, OW, OC)).astype(np.float32)\n",
    "    for oc in range(0, OC):\n",
    "      for oh in range(0, OH):\n",
    "        for ow in range(0, OW):\n",
    "          for ic in range(0, IC):\n",
    "            for kh in range(0, KH):\n",
    "              for kw in range(0, KW):\n",
    "                C[oh, ow, oc] += A[oh+kh, ow+kw, ic] * B[kh, kw, ic, oc]\n",
    "    return C"
   ]
  },
  {
   "cell_type": "code",
   "execution_count": null,
   "metadata": {},
   "outputs": [],
   "source": [
    "# Initialize the buffers\n",
    "np.random.seed(0)\n",
    "A = np.random.rand(IH, IW, IC).astype(np.float32)\n",
    "B = np.random.rand(KH, KW, IC, OC).astype(np.float32)\n",
    "C = np.zeros((OH, OW, OC)).astype(np.float32)\n",
    "\n",
    "# Execute on CPU\n",
    "conv_task = top(A, B, C)\n",
    "C_Golden = conv_sw(A, B)\n",
    "\n",
    "# Compare the program with golden file\n",
    "print(np.allclose(C, C_Golden))\n",
    "\n",
    "# Generate files for on-board test\n",
    "aries.gen_sim([A, B, C_Golden])"
   ]
  },
  {
   "cell_type": "code",
   "execution_count": null,
   "metadata": {},
   "outputs": [],
   "source": [
    "# Specify primitives to optimize hardware design\n",
    "sch = Schedule(conv_task)\n",
    "\n",
    "############# Primitives #############\n",
    "sch.parallel(conv_task, [1, 2, 2, 2, 1, 1]) # AIE Array Parallelism\n",
    "sch.l2buffer(conv_task, [2, 2, 2, 2, 1, 1]) # L2 buffer data reuse\n",
    "sch.bufsel(conv_task, [1, 1, 0]) # Select the type of buffer of A, B, C, 1:BRAM; 0:URAM\n",
    "# If there is reduction loop in the single AIE, then need to specify\n",
    "sch.aieUnroll(factor=3, option=1) # Specify unroll-full-threshold=3\n",
    "######################################\n",
    "\n",
    "sch.to(\"VCK190\")"
   ]
  },
  {
   "cell_type": "code",
   "execution_count": null,
   "metadata": {},
   "outputs": [],
   "source": [
    "# Set the project dir and template dir\n",
    "prj_dir= cur_dir + '/project_conv_222'\n",
    "temp_dir= aries_path + '/templates'\n",
    "# Generate Initial MLIR and ARIES Opts\n",
    "sch.build(all_code, prj_dir, temp_dir)"
   ]
  }
 ],
 "metadata": {
  "kernelspec": {
   "display_name": "aries",
   "language": "python",
   "name": "python3"
  },
  "language_info": {
   "codemirror_mode": {
    "name": "ipython",
    "version": 3
   },
   "file_extension": ".py",
   "mimetype": "text/x-python",
   "name": "python",
   "nbconvert_exporter": "python",
   "pygments_lexer": "ipython3",
   "version": "3.12.9"
  }
 },
 "nbformat": 4,
 "nbformat_minor": 2
}
